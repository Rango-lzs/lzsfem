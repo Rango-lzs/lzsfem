{
 "cells": [
  {
   "cell_type": "code",
   "execution_count": 7,
   "metadata": {},
   "outputs": [
    {
     "name": "stdout",
     "output_type": "stream",
     "text": [
      "[[1 3]\n",
      " [2 4]]\n",
      "[[-2.   1. ]\n",
      " [ 1.5 -0.5]]\n",
      "[[ 6]\n",
      " [14]]\n"
     ]
    }
   ],
   "source": [
    "import numpy as np\n",
    "\n",
    "a = np.array([[1,2],[3,4]])\n",
    "b = np.array([[2],[2]])\n",
    "\n",
    "# 转置\n",
    "print (a.T)\n",
    "\n",
    "# 求逆\n",
    "print (np.linalg.inv(a))\n",
    "\n",
    "# 矩阵相乘\n",
    "print(a @ b)"
   ]
  },
  {
   "attachments": {},
   "cell_type": "markdown",
   "metadata": {},
   "source": [
    "## 线性有限元算法流程\n",
    "\n",
    "### 1.\n",
    "### 2."
   ]
  },
  {
   "attachments": {
    "image.png": {
     "image/png": "[encoded data removed]"
    }
   },
   "cell_type": "markdown",
   "metadata": {},
   "source": [
    "### 基本单元的型函数\n",
    "\n",
    "* 三节点三角形单元\n",
    "    \n",
    "    使用面积坐标，\n",
    "    N =\n",
    "    $$\n",
    "    \\begin{bmatrix}\n",
    "    1-r-s,r,s\n",
    "    \\end{bmatrix}\n",
    "    $$\n",
    "\n",
    "    ![image.png](attachment:image.png)\n",
    "\n",
    " \n",
    "* 四节点四边形单元"
   ]
  },
  {
   "cell_type": "code",
   "execution_count": null,
   "metadata": {},
   "outputs": [],
   "source": []
  }
 ],
 "metadata": {
  "kernelspec": {
   "display_name": "base",
   "language": "python",
   "name": "python3"
  },
  "language_info": {
   "codemirror_mode": {
    "name": "ipython",
    "version": 3
   },
   "file_extension": ".py",
   "mimetype": "text/x-python",
   "name": "python",
   "nbconvert_exporter": "python",
   "pygments_lexer": "ipython3",
   "version": "3.9.12"
  },
  "orig_nbformat": 4,
  "vscode": {
   "interpreter": {
    "hash": "8475913a9817e678a2d994f9291ccb386ffe691a84f97ec11cc4e8b320ec07b2"
   }
  }
 },
 "nbformat": 4,
 "nbformat_minor": 2
}
