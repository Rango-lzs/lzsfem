{
 "cells": [
  {
   "cell_type": "code",
   "execution_count": 6,
   "metadata": {},
   "outputs": [
    {
     "name": "stdout",
     "output_type": "stream",
     "text": [
      "[[1 3]\n",
      " [2 4]]\n",
      "[[-2.   1. ]\n",
      " [ 1.5 -0.5]]\n",
      "[[ 6]\n",
      " [14]]\n"
     ]
    }
   ],
   "source": [
    "import numpy as np\n",
    "\n",
    "a = np.array([[1,2],[3,4]])\n",
    "b = np.array([[2],[2]])\n",
    "\n",
    "# 转置\n",
    "print (a.T)\n",
    "\n",
    "# 求逆\n",
    "print (np.linalg.inv(a))\n",
    "\n",
    "# 矩阵相乘\n",
    "print(a @ b)"
   ]
  },
  {
   "cell_type": "code",
   "execution_count": 3,
   "metadata": {},
   "outputs": [
    {
     "data": {
      "text/plain": [
       "0.5773502691896257"
      ]
     },
     "execution_count": 3,
     "metadata": {},
     "output_type": "execute_result"
    }
   ],
   "source": [
    "3**0.5/3"
   ]
  },
  {
   "cell_type": "code",
   "execution_count": 28,
   "metadata": {},
   "outputs": [],
   "source": [
    "# -*- coding: utf-8 -*-\n",
    "\"\"\"\n",
    "Numeric integration routines\n",
    "----------------------------\n",
    "Weights and coordinates for Gauss-Legendre quadrature [WGAUSS]_. The\n",
    "values for triangles is presented in section 5.5 of Bathe book [BATHE]_.\n",
    "\n",
    "References\n",
    "----------\n",
    ".. [WGAUSS] Wikipedia contributors. \"Gaussian quadrature.\" Wikipedia,\n",
    "   The Free Encyclopedia, 2 Nov.  2015. Web. 25 Dec. 2015.\n",
    "   url: https://en.wikipedia.org/wiki/Gaussian_quadrature\n",
    ".. [BATHE] Bathe, Klaus-Jürgen. Finite element procedures. Prentice Hall,\n",
    "   Pearson Education, 2006.\n",
    "\"\"\"\n",
    "from itertools import product\n",
    "import numpy as np\n",
    "\n",
    "\n",
    "#%% General\n",
    "def gauss_1d(npts):\n",
    "    \"\"\"Return Gauss points and weights for Gauss quadrature in 1D\n",
    "\n",
    "    Parameters\n",
    "    ----------\n",
    "    npts : int\n",
    "      Number of quadrature points.\n",
    "\n",
    "    Returns\n",
    "    -------\n",
    "    wts : ndarray\n",
    "      Weights for the Gauss-Legendre quadrature.\n",
    "    pts : ndarray\n",
    "      Points for the Gauss-Legendre quadrature.\n",
    "    \"\"\"\n",
    "    if npts == 2:\n",
    "        pts = [-0.577350269189625764, 0.577350269189625764]\n",
    "        wts = [1.00000000000000000, 1.00000000000000000]\n",
    "    elif npts == 3:\n",
    "        pts = [-0.774596669241483377, 0, 0.774596669241483377]\n",
    "        wts = [0.555555555555555556, 0.888888888888888889,\n",
    "               0.555555555555555556]\n",
    "    elif npts == 4:\n",
    "        pts = [-0.861136311594052575, -0.339981043584856265,\n",
    "               0.339981043584856265, 0.861136311594052575]\n",
    "        wts = [0.347854845137453857, 0.652145154862546143,\n",
    "               0.652145154862546143, 0.347854845137453857]  \n",
    "    else:\n",
    "        msg = \"The number of points should be in [2, 10]\"\n",
    "        raise ValueError(msg)\n",
    "\n",
    "    return pts, wts\n",
    "\n",
    "\n",
    "def gauss_nd(npts, ndim=2):\n",
    "    \"\"\"\n",
    "    Return Gauss points and weights for Gauss quadrature in\n",
    "    an ND hypercube.\n",
    "\n",
    "    Parameters\n",
    "    ----------\n",
    "    npts : int\n",
    "      Number of quadrature points.\n",
    "\n",
    "    Returns\n",
    "    -------\n",
    "    nd_wts : ndarray\n",
    "      Weights for the Gauss-Legendre quadrature.\n",
    "    nd_pts : ndarray\n",
    "      Points for the Gauss-Legendre quadrature.\n",
    "    \"\"\"\n",
    "    pts, wts = gauss_1d(npts)\n",
    "    nd_pts = np.array(list(product(pts, repeat=ndim)))\n",
    "    nd_wts = product(wts, repeat=ndim)\n",
    "    nd_wts = [np.prod(nd_wt) for nd_wt in nd_wts]\n",
    "    return nd_pts, nd_wts\n",
    "\n"
   ]
  },
  {
   "cell_type": "code",
   "execution_count": 34,
   "metadata": {},
   "outputs": [
    {
     "name": "stdout",
     "output_type": "stream",
     "text": [
      "[-0.5773502691896257, 0.5773502691896257] [1.0, 1.0]\n",
      "[[-0.57735027 -0.57735027]\n",
      " [-0.57735027  0.57735027]\n",
      " [ 0.57735027 -0.57735027]\n",
      " [ 0.57735027  0.57735027]]\n",
      "<itertools.product object at 0x0000014104D7F280>\n",
      "[(1.0, 1.0), (1.0, 1.0), (1.0, 1.0), (1.0, 1.0)]\n"
     ]
    }
   ],
   "source": [
    "pts, wts = gauss_1d(2)\n",
    "print(pts,wts)\n",
    "nd_pts = np.array(list(product(pts, repeat=2)))\n",
    "print(nd_pts)\n",
    "nd_wts = product(wts, repeat=2)\n",
    "print(nd_wts)\n",
    "nd_wts = [np.prod(nd_wt) for nd_wt in nd_wts]\n",
    "print(nd_wts)"
   ]
  },
  {
   "attachments": {},
   "cell_type": "markdown",
   "metadata": {},
   "source": [
    "my assemble:\n",
    "array([[ 1.,  0.,  0.,  0., 13., 14., 11., 12.],\n",
    "       [ 0.,  0.,  2.,  0.,  7.,  8., 13., 14.],\n",
    "       [11., 12., 13., 14.,  9., 10.,  5.,  6.],\n",
    "       [13., 14.,  7.,  8.,  3.,  4.,  9., 10.]])"
   ]
  },
  {
   "cell_type": "code",
   "execution_count": 21,
   "metadata": {},
   "outputs": [
    {
     "data": {
      "text/plain": [
       "[0.3333333333333333,\n",
       " -0.3333333333333333,\n",
       " -0.3333333333333333,\n",
       " 0.3333333333333333]"
      ]
     },
     "execution_count": 21,
     "metadata": {},
     "output_type": "execute_result"
    }
   ],
   "source": [
    "array([[ 0, -1, -1, -1, 12, 13, 10, 11,  0,  0,  0,  0,  0,  0,  0,  0,\n",
    "         0,  0],\n",
    "       [-1, -1,  1, -1,  6,  7, 12, 13,  0,  0,  0,  0,  0,  0,  0,  0,\n",
    "         0,  0],\n",
    "       [10, 11, 12, 13,  8,  9,  4,  5,  0,  0,  0,  0,  0,  0,  0,  0,\n",
    "         0,  0],\n",
    "       [12, 13,  6,  7,  2,  3,  8,  9,  0,  0,  0,  0,  0,  0,  0,  0,\n",
    "         0,  0]])"
   ]
  },
  {
   "cell_type": "code",
   "execution_count": 23,
   "metadata": {},
   "outputs": [
    {
     "data": {
      "text/plain": [
       "0.12"
      ]
     },
     "execution_count": 23,
     "metadata": {},
     "output_type": "execute_result"
    }
   ],
   "source": [
    "np.prod([0.3,0.4])"
   ]
  }
 ],
 "metadata": {
  "kernelspec": {
   "display_name": "base",
   "language": "python",
   "name": "python3"
  },
  "language_info": {
   "codemirror_mode": {
    "name": "ipython",
    "version": 3
   },
   "file_extension": ".py",
   "mimetype": "text/x-python",
   "name": "python",
   "nbconvert_exporter": "python",
   "pygments_lexer": "ipython3",
   "version": "3.9.7"
  },
  "orig_nbformat": 4
 },
 "nbformat": 4,
 "nbformat_minor": 2
}
